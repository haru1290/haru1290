{
  "nbformat": 4,
  "nbformat_minor": 0,
  "metadata": {
    "colab": {
      "provenance": [],
      "authorship_tag": "ABX9TyPjEBpK6IGZyFig4z5/q9Rv",
      "include_colab_link": true
    },
    "kernelspec": {
      "name": "python3",
      "display_name": "Python 3"
    },
    "language_info": {
      "name": "python"
    },
    "gpuClass": "standard"
  },
  "cells": [
    {
      "cell_type": "markdown",
      "metadata": {
        "id": "view-in-github",
        "colab_type": "text"
      },
      "source": [
        "<a href=\"https://colab.research.google.com/github/haru1290/haru1290/blob/main/notebooks/chapter03.ipynb\" target=\"_parent\"><img src=\"https://colab.research.google.com/assets/colab-badge.svg\" alt=\"Open In Colab\"/></a>"
      ]
    },
    {
      "cell_type": "markdown",
      "source": [
        "# 第3章: 正規表現\n",
        "\n",
        "Wikipediaの記事を以下のフォーマットで書き出したファイル[jawiki-country.json.gz](https://nlp100.github.io/data/jawiki-country.json.gz)がある．\n",
        "\n",
        "* 1行に1記事の情報がJSON形式で格納される\n",
        "* 各行には記事名が”title”キーに，記事本文が”text”キーの辞書オブジェクトに格納され，そのオブジェクトがJSON形式で書き出される\n",
        "* ファイル全体はgzipで圧縮される\n",
        "\n",
        "以下の処理を行うプログラムを作成せよ．"
      ],
      "metadata": {
        "id": "iBPFEkMS3ncN"
      }
    },
    {
      "cell_type": "code",
      "source": [
        "!wget https://nlp100.github.io/data/jawiki-country.json.gz -O jawiki-country.json.gz\n",
        "!gunzip jawiki-country.json.gz"
      ],
      "metadata": {
        "id": "rWFDXJ4YLjWN",
        "colab": {
          "base_uri": "https://localhost:8080/"
        },
        "outputId": "3e937859-1389-4648-e491-4f6bf23750b4"
      },
      "execution_count": null,
      "outputs": [
        {
          "output_type": "stream",
          "name": "stdout",
          "text": [
            "--2023-08-08 13:43:36--  https://nlp100.github.io/data/jawiki-country.json.gz\n",
            "Resolving nlp100.github.io (nlp100.github.io)... 185.199.108.153, 185.199.109.153, 185.199.110.153, ...\n",
            "Connecting to nlp100.github.io (nlp100.github.io)|185.199.108.153|:443... connected.\n",
            "HTTP request sent, awaiting response... 200 OK\n",
            "Length: 5068362 (4.8M) [application/gzip]\n",
            "Saving to: ‘jawiki-country.json.gz’\n",
            "\n",
            "\rjawiki-country.json   0%[                    ]       0  --.-KB/s               \rjawiki-country.json 100%[===================>]   4.83M  --.-KB/s    in 0.03s   \n",
            "\n",
            "2023-08-08 13:43:36 (144 MB/s) - ‘jawiki-country.json.gz’ saved [5068362/5068362]\n",
            "\n"
          ]
        }
      ]
    },
    {
      "cell_type": "markdown",
      "source": [
        "## 20. JSONデータの読み込み\n",
        "---\n",
        "Wikipedia記事のJSONファイルを読み込み，「イギリス」に関する記事本文を表示せよ．問題21-29では，ここで抽出した記事本文に対して実行せよ．"
      ],
      "metadata": {
        "id": "YtKpfXZ02sUM"
      }
    },
    {
      "cell_type": "code",
      "source": [
        "import pandas as pd\n",
        "\n",
        "df = pd.read_json(\"jawiki-country.json\", lines=True)\n",
        "uk_df = df[df[\"title\"] == \"イギリス\"]\n",
        "uk_df = uk_df[\"text\"]\n",
        "\n",
        "print(uk_df)"
      ],
      "metadata": {
        "id": "PtJbck5ApC08",
        "colab": {
          "base_uri": "https://localhost:8080/"
        },
        "outputId": "144d2d88-af5e-49d8-fdda-4f6a09d2ec8f"
      },
      "execution_count": null,
      "outputs": [
        {
          "output_type": "stream",
          "name": "stdout",
          "text": [
            "235    {{redirect|UK}}\\n{{redirect|英国|春秋時代の諸侯国|英 (春秋)...\n",
            "Name: text, dtype: object\n"
          ]
        }
      ]
    },
    {
      "cell_type": "markdown",
      "source": [
        "## 21. カテゴリ名を含む行を抽出\n",
        "---\n",
        "記事中でカテゴリ名を宣言している行を抽出せよ．"
      ],
      "metadata": {
        "id": "drBaISP1tZhw"
      }
    },
    {
      "cell_type": "code",
      "source": [
        "import re\n",
        "\n",
        "pattern = r\"\\[\\[Category:.+\\]\\]\"\n",
        "result = \"\\n\".join(re.findall(pattern, uk_df.values[0]))\n",
        "print(result)"
      ],
      "metadata": {
        "id": "GE8TYCzTt4Vo",
        "colab": {
          "base_uri": "https://localhost:8080/"
        },
        "outputId": "b24ddf93-6cb9-4d92-aaea-94ea59ed8359"
      },
      "execution_count": null,
      "outputs": [
        {
          "output_type": "stream",
          "name": "stdout",
          "text": [
            "[[Category:イギリス|*]]\n",
            "[[Category:イギリス連邦加盟国]]\n",
            "[[Category:英連邦王国|*]]\n",
            "[[Category:G8加盟国]]\n",
            "[[Category:欧州連合加盟国|元]]\n",
            "[[Category:海洋国家]]\n",
            "[[Category:現存する君主国]]\n",
            "[[Category:島国]]\n",
            "[[Category:1801年に成立した国家・領域]]\n"
          ]
        }
      ]
    },
    {
      "cell_type": "markdown",
      "source": [
        "## 22. カテゴリ名の抽出\n",
        "---\n",
        "記事のカテゴリ名を（行単位ではなく名前で）抽出せよ．"
      ],
      "metadata": {
        "id": "9XrFU7FC4wPJ"
      }
    },
    {
      "cell_type": "code",
      "source": [
        "pattern = r\"\\[\\[Category:(.+?)(?:\\|.+)?\\]\\]\"\n",
        "result = \"\\n\".join(re.findall(pattern, uk_df.values[0]))\n",
        "print(result)"
      ],
      "metadata": {
        "id": "-rtmr1fo5FxY",
        "colab": {
          "base_uri": "https://localhost:8080/"
        },
        "outputId": "a5e66936-5242-48f1-85c3-18a2489febcd"
      },
      "execution_count": null,
      "outputs": [
        {
          "output_type": "stream",
          "name": "stdout",
          "text": [
            "イギリス\n",
            "イギリス連邦加盟国\n",
            "英連邦王国\n",
            "G8加盟国\n",
            "欧州連合加盟国\n",
            "海洋国家\n",
            "現存する君主国\n",
            "島国\n",
            "1801年に成立した国家・領域\n"
          ]
        }
      ]
    },
    {
      "cell_type": "markdown",
      "source": [
        "## 23. セクション構造\n",
        "---\n",
        "記事中に含まれるセクション名とそのレベル（例えば”== セクション名 ==”なら1）を表示せよ．"
      ],
      "metadata": {
        "id": "qM8Oh2xF5gv6"
      }
    },
    {
      "cell_type": "code",
      "source": [
        "pattern = r\"=(=+)(.+?)=\"\n",
        "result = \"\\n\".join([i[1] + \":\" + str(len(i[0])) for i in re.findall(pattern, uk_df.values[0])])\n",
        "print(result)"
      ],
      "metadata": {
        "id": "eeiA2Jxm6Ks3",
        "colab": {
          "base_uri": "https://localhost:8080/"
        },
        "outputId": "83be8c20-bdaf-4955-9b61-80a65144b81c"
      },
      "execution_count": null,
      "outputs": [
        {
          "output_type": "stream",
          "name": "stdout",
          "text": [
            "国名:1\n",
            "歴史:1\n",
            "地理:1\n",
            "主要都市:2\n",
            "気候:2\n",
            "政治:1\n",
            "元首:2\n",
            "法:2\n",
            "内政:2\n",
            "地方行政区分:2\n",
            "外交・軍事:2\n",
            "経済:1\n",
            "鉱業:2\n",
            "農業:2\n",
            "貿易:2\n",
            "不動産:2\n",
            "エネルギー政策:2\n",
            "通貨:2\n",
            "企業:2\n",
            "通信:3\n",
            "交通:1\n",
            "道路:2\n",
            "鉄道:2\n",
            "海運:2\n",
            "航空:2\n",
            "科学技術:1\n",
            "国民:1\n",
            "言語:2\n",
            "宗教:2\n",
            "婚姻:2\n",
            "移住:2\n",
            "教育:2\n",
            "医療:2\n",
            "文化:1\n",
            "食文化:2\n",
            "文学:2\n",
            "哲学:2\n",
            "音楽:2\n",
            "ポピュラー音楽:3\n",
            "映画:2\n",
            "コメディ:2\n",
            "国花:2\n",
            "世界遺産:2\n",
            "祝祭日:2\n",
            "スポーツ:2\n",
            "サッカー:3\n",
            "クリケット:3\n",
            "競馬:3\n",
            "モータースポーツ:3\n",
            "野球:3\n",
            " カーリング :3\n",
            " 自転車競技 :3\n",
            "脚注:1\n",
            "関連項目:1\n",
            "外部リンク:1\n"
          ]
        }
      ]
    },
    {
      "cell_type": "markdown",
      "source": [
        "## 24. ファイル参照の抽出\n",
        "---\n",
        "記事から参照されているメディアファイルをすべて抜き出せ．"
      ],
      "metadata": {
        "id": "kU1t8DcC5RcH"
      }
    },
    {
      "cell_type": "code",
      "source": [
        "pattern = r\"ファイル:(.+?)\\|\"\n",
        "result = \"\\n\".join(re.findall(pattern, uk_df.values[0]))\n",
        "print(result)"
      ],
      "metadata": {
        "id": "tuPL0www6KSe",
        "colab": {
          "base_uri": "https://localhost:8080/"
        },
        "outputId": "9a106d9c-d962-4788-d217-919bbc66cdd7"
      },
      "execution_count": null,
      "outputs": [
        {
          "output_type": "stream",
          "name": "stdout",
          "text": [
            "Royal Coat of Arms of the United Kingdom.svg\n",
            "Descriptio Prime Tabulae Europae.jpg\n",
            "Lenepveu, Jeanne d'Arc au siège d'Orléans.jpg\n",
            "London.bankofengland.arp.jpg\n",
            "Battle of Waterloo 1815.PNG\n",
            "Uk topo en.jpg\n",
            "BenNevis2005.jpg\n",
            "Population density UK 2011 census.png\n",
            "2019 Greenwich Peninsula & Canary Wharf.jpg\n",
            "Birmingham Skyline from Edgbaston Cricket Ground crop.jpg\n",
            "Leeds CBD at night.jpg\n",
            "Glasgow and the Clyde from the air (geograph 4665720).jpg\n",
            "Palace of Westminster, London - Feb 2007.jpg\n",
            "Scotland Parliament Holyrood.jpg\n",
            "Donald Trump and Theresa May (33998675310) (cropped).jpg\n",
            "Soldiers Trooping the Colour, 16th June 2007.jpg\n",
            "City of London skyline from London City Hall - Oct 2008.jpg\n",
            "Oil platform in the North SeaPros.jpg\n",
            "Eurostar at St Pancras Jan 2008.jpg\n",
            "Heathrow Terminal 5C Iwelumo-1.jpg\n",
            "Airbus A380-841 G-XLEB British Airways (10424102995).jpg\n",
            "UKpop.svg\n",
            "Anglospeak.svg\n",
            "Royal Aberdeen Children's Hospital.jpg\n",
            "CHANDOS3.jpg\n",
            "The Fabs.JPG\n",
            "Wembley Stadium, illuminated.jpg\n"
          ]
        }
      ]
    },
    {
      "cell_type": "markdown",
      "source": [
        "## 25. テンプレートの抽出\n",
        "---\n",
        "記事中に含まれる「基礎情報」テンプレートのフィールド名と値を抽出し，辞書オブジェクトとして格納せよ．"
      ],
      "metadata": {
        "id": "lLIUhBth5X3p"
      }
    },
    {
      "cell_type": "code",
      "source": [
        "pattern = r\"\\|(.+?)\\s=\\s*(.+)\"\n",
        "template = {i[0]: i[1] for i in re.findall(pattern, uk_df.values[0])}\n",
        "print(template)"
      ],
      "metadata": {
        "id": "eEhtUeFm6JyA",
        "colab": {
          "base_uri": "https://localhost:8080/"
        },
        "outputId": "5f8fe653-c91d-47e8-a18a-563cf86d7c3e"
      },
      "execution_count": null,
      "outputs": [
        {
          "output_type": "stream",
          "name": "stdout",
          "text": [
            "{'略名 ': 'イギリス', '日本語国名': 'グレートブリテン及び北アイルランド連合王国', '公式国名': '{{lang|en|United Kingdom of Great Britain and Northern Ireland}}<ref>英語以外での正式国名:<br />', '国旗画像': 'Flag of the United Kingdom.svg', '国章画像': '[[ファイル:Royal Coat of Arms of the United Kingdom.svg|85px|イギリスの国章]]', '国章リンク': '（[[イギリスの国章|国章]]）', '標語': '{{lang|fr|[[Dieu et mon droit]]}}<br />（[[フランス語]]:[[Dieu et mon droit|神と我が権利]]）', '国歌': \"[[女王陛下万歳|{{lang|en|God Save the Queen}}]]{{en icon}}<br />''神よ女王を護り賜え''<br />{{center|[[ファイル:United States Navy Band - God Save the Queen.ogg]]}}\", '地図画像': 'Europe-UK.svg', '位置画像': 'United Kingdom (+overseas territories) in the World (+Antarctica claims).svg', '公用語': '[[英語]]', '首都': '[[ロンドン]]（事実上）', '最大都市': 'ロンドン', '元首等肩書': '[[イギリスの君主|女王]]', '元首等氏名': '[[エリザベス2世]]', '首相等肩書': '[[イギリスの首相|首相]]', '首相等氏名': '[[ボリス・ジョンソン]]', '他元首等肩書1': '[[貴族院 (イギリス)|貴族院議長]]', '他元首等氏名1': '[[:en:Norman Fowler, Baron Fowler|ノーマン・ファウラー]]', '他元首等肩書2': '[[庶民院 (イギリス)|庶民院議長]]', '他元首等氏名2': '{{仮リンク|リンゼイ・ホイル|en|Lindsay Hoyle}}', '他元首等肩書3': '[[連合王国最高裁判所|最高裁判所長官]]', '他元首等氏名3': '[[:en:Brenda Hale, Baroness Hale of Richmond|ブレンダ・ヘイル]]', '面積順位': '76', '面積大きさ': '1 E11', '面積値': '244,820', '水面積率': '1.3%', '人口統計年': '2018', '人口順位': '22', '人口大きさ': '1 E7', '人口値': '6643万5600<ref>{{Cite web|url=https://www.ons.gov.uk/peoplepopulationandcommunity/populationandmigration/populationestimates|title=Population estimates - Office for National Statistics|accessdate=2019-06-26|date=2019-06-26}}</ref>', '人口密度値': '271', 'GDP統計年元': '2012', 'GDP値元': '1兆5478億<ref name=\"imf-statistics-gdp\">[http://www.imf.org/external/pubs/ft/weo/2012/02/weodata/weorept.aspx?pr.x=70&pr.y=13&sy=2010&ey=2012&scsm=1&ssd=1&sort=country&ds=.&br=1&c=112&s=NGDP%2CNGDPD%2CPPPGDP%2CPPPPC&grp=0&a=IMF>Data and Statistics>World Economic Outlook Databases>By Countrise>United Kingdom]</ref>', 'GDP統計年MER': '2012', 'GDP順位MER': '6', 'GDP値MER': '2兆4337億<ref name=\"imf-statistics-gdp\" />', 'GDP統計年': '2012', 'GDP順位': '6', 'GDP値': '2兆3162億<ref name=\"imf-statistics-gdp\" />', 'GDP/人': '36,727<ref name=\"imf-statistics-gdp\" />', '建国形態': '建国', '確立形態1': '[[イングランド王国]]／[[スコットランド王国]]<br />（両国とも[[合同法 (1707年)|1707年合同法]]まで）', '確立年月日1': '927年／843年', '確立形態2': '[[グレートブリテン王国]]成立<br />（1707年合同法）', '確立年月日2': '1707年{{0}}5月{{0}}1日', '確立形態3': '[[グレートブリテン及びアイルランド連合王国]]成立<br />（[[合同法 (1800年)|1800年合同法]]）', '確立年月日3': '1801年{{0}}1月{{0}}1日', '確立形態4': \"現在の国号「'''グレートブリテン及び北アイルランド連合王国'''」に変更\", '確立年月日4': '1927年{{0}}4月12日', '通貨': '[[スターリング・ポンド|UKポンド]] (£)', '通貨コード': 'GBP', '時間帯': '±0', '夏時間': '+1', 'ISO 3166-1': 'GB / GBR', 'ccTLD': '[[.uk]] / [[.gb]]<ref>使用は.ukに比べ圧倒的少数。</ref>', '国際電話番号': '44', '注記': '<references/>'}\n"
          ]
        }
      ]
    },
    {
      "cell_type": "markdown",
      "source": [
        "## 26. 強調マークアップの除去\n",
        "---\n",
        "25の処理時に，テンプレートの値からMediaWikiの強調マークアップ（弱い強調，強調，強い強調のすべて）を除去してテキストに変換せよ（参考: [マークアップ早見表](http://ja.wikipedia.org/wiki/Help:%E6%97%A9%E8%A6%8B%E8%A1%A8)）．"
      ],
      "metadata": {
        "id": "GOHBNstV5m0k"
      }
    },
    {
      "cell_type": "code",
      "source": [
        "def strip_markup(text):\n",
        "    text = re.sub(r\"\\'{2,}(.+?)\\'{2,}\", \"\\\\1\", text)\n",
        "    return text\n",
        "\n",
        "result = {k: strip_markup(v) for k, v in template.items()}\n",
        "print(result)"
      ],
      "metadata": {
        "id": "OfAaaw4C6JLQ",
        "colab": {
          "base_uri": "https://localhost:8080/"
        },
        "outputId": "4c825144-743c-4a5e-fe18-f54deb21379d"
      },
      "execution_count": null,
      "outputs": [
        {
          "output_type": "stream",
          "name": "stdout",
          "text": [
            "{'略名 ': 'イギリス', '日本語国名': 'グレートブリテン及び北アイルランド連合王国', '公式国名': '{{lang|en|United Kingdom of Great Britain and Northern Ireland}}<ref>英語以外での正式国名:<br />', '国旗画像': 'Flag of the United Kingdom.svg', '国章画像': '[[ファイル:Royal Coat of Arms of the United Kingdom.svg|85px|イギリスの国章]]', '国章リンク': '（[[イギリスの国章|国章]]）', '標語': '{{lang|fr|[[Dieu et mon droit]]}}<br />（[[フランス語]]:[[Dieu et mon droit|神と我が権利]]）', '国歌': '[[女王陛下万歳|{{lang|en|God Save the Queen}}]]{{en icon}}<br />神よ女王を護り賜え<br />{{center|[[ファイル:United States Navy Band - God Save the Queen.ogg]]}}', '地図画像': 'Europe-UK.svg', '位置画像': 'United Kingdom (+overseas territories) in the World (+Antarctica claims).svg', '公用語': '[[英語]]', '首都': '[[ロンドン]]（事実上）', '最大都市': 'ロンドン', '元首等肩書': '[[イギリスの君主|女王]]', '元首等氏名': '[[エリザベス2世]]', '首相等肩書': '[[イギリスの首相|首相]]', '首相等氏名': '[[ボリス・ジョンソン]]', '他元首等肩書1': '[[貴族院 (イギリス)|貴族院議長]]', '他元首等氏名1': '[[:en:Norman Fowler, Baron Fowler|ノーマン・ファウラー]]', '他元首等肩書2': '[[庶民院 (イギリス)|庶民院議長]]', '他元首等氏名2': '{{仮リンク|リンゼイ・ホイル|en|Lindsay Hoyle}}', '他元首等肩書3': '[[連合王国最高裁判所|最高裁判所長官]]', '他元首等氏名3': '[[:en:Brenda Hale, Baroness Hale of Richmond|ブレンダ・ヘイル]]', '面積順位': '76', '面積大きさ': '1 E11', '面積値': '244,820', '水面積率': '1.3%', '人口統計年': '2018', '人口順位': '22', '人口大きさ': '1 E7', '人口値': '6643万5600<ref>{{Cite web|url=https://www.ons.gov.uk/peoplepopulationandcommunity/populationandmigration/populationestimates|title=Population estimates - Office for National Statistics|accessdate=2019-06-26|date=2019-06-26}}</ref>', '人口密度値': '271', 'GDP統計年元': '2012', 'GDP値元': '1兆5478億<ref name=\"imf-statistics-gdp\">[http://www.imf.org/external/pubs/ft/weo/2012/02/weodata/weorept.aspx?pr.x=70&pr.y=13&sy=2010&ey=2012&scsm=1&ssd=1&sort=country&ds=.&br=1&c=112&s=NGDP%2CNGDPD%2CPPPGDP%2CPPPPC&grp=0&a=IMF>Data and Statistics>World Economic Outlook Databases>By Countrise>United Kingdom]</ref>', 'GDP統計年MER': '2012', 'GDP順位MER': '6', 'GDP値MER': '2兆4337億<ref name=\"imf-statistics-gdp\" />', 'GDP統計年': '2012', 'GDP順位': '6', 'GDP値': '2兆3162億<ref name=\"imf-statistics-gdp\" />', 'GDP/人': '36,727<ref name=\"imf-statistics-gdp\" />', '建国形態': '建国', '確立形態1': '[[イングランド王国]]／[[スコットランド王国]]<br />（両国とも[[合同法 (1707年)|1707年合同法]]まで）', '確立年月日1': '927年／843年', '確立形態2': '[[グレートブリテン王国]]成立<br />（1707年合同法）', '確立年月日2': '1707年{{0}}5月{{0}}1日', '確立形態3': '[[グレートブリテン及びアイルランド連合王国]]成立<br />（[[合同法 (1800年)|1800年合同法]]）', '確立年月日3': '1801年{{0}}1月{{0}}1日', '確立形態4': '現在の国号「グレートブリテン及び北アイルランド連合王国」に変更', '確立年月日4': '1927年{{0}}4月12日', '通貨': '[[スターリング・ポンド|UKポンド]] (£)', '通貨コード': 'GBP', '時間帯': '±0', '夏時間': '+1', 'ISO 3166-1': 'GB / GBR', 'ccTLD': '[[.uk]] / [[.gb]]<ref>使用は.ukに比べ圧倒的少数。</ref>', '国際電話番号': '44', '注記': '<references/>'}\n"
          ]
        }
      ]
    },
    {
      "cell_type": "markdown",
      "source": [
        "## 27. 内部リンクの除去Permalink\n",
        "---\n",
        "26の処理に加えて，テンプレートの値からMediaWikiの内部リンクマークアップを除去し，テキストに変換せよ（参考: [マークアップ早見表](http://ja.wikipedia.org/wiki/Help:%E6%97%A9%E8%A6%8B%E8%A1%A8)）．"
      ],
      "metadata": {
        "id": "ngMBE-7r5tZ8"
      }
    },
    {
      "cell_type": "code",
      "source": [
        "def strip_markup(text):\n",
        "    text = re.sub(r\"\\'{2,}(.+?)\\'{2,}\", \"\\\\1\", text)\n",
        "    text = re.sub(r\"\\[\\[(.+?)\\]\\]\", \"\\\\1\", text)\n",
        "    return text\n",
        "\n",
        "result = {k: strip_markup(v) for k, v in template.items()}\n",
        "print(result)"
      ],
      "metadata": {
        "id": "HzReSHmz6Isz",
        "colab": {
          "base_uri": "https://localhost:8080/"
        },
        "outputId": "94e3f912-ba7b-488a-af0e-393eb9d1a468"
      },
      "execution_count": null,
      "outputs": [
        {
          "output_type": "stream",
          "name": "stdout",
          "text": [
            "{'略名 ': 'イギリス', '日本語国名': 'グレートブリテン及び北アイルランド連合王国', '公式国名': '{{lang|en|United Kingdom of Great Britain and Northern Ireland}}<ref>英語以外での正式国名:<br />', '国旗画像': 'Flag of the United Kingdom.svg', '国章画像': 'ファイル:Royal Coat of Arms of the United Kingdom.svg|85px|イギリスの国章', '国章リンク': '（イギリスの国章|国章）', '標語': '{{lang|fr|Dieu et mon droit}}<br />（フランス語:Dieu et mon droit|神と我が権利）', '国歌': '女王陛下万歳|{{lang|en|God Save the Queen}}{{en icon}}<br />神よ女王を護り賜え<br />{{center|ファイル:United States Navy Band - God Save the Queen.ogg}}', '地図画像': 'Europe-UK.svg', '位置画像': 'United Kingdom (+overseas territories) in the World (+Antarctica claims).svg', '公用語': '英語', '首都': 'ロンドン（事実上）', '最大都市': 'ロンドン', '元首等肩書': 'イギリスの君主|女王', '元首等氏名': 'エリザベス2世', '首相等肩書': 'イギリスの首相|首相', '首相等氏名': 'ボリス・ジョンソン', '他元首等肩書1': '貴族院 (イギリス)|貴族院議長', '他元首等氏名1': ':en:Norman Fowler, Baron Fowler|ノーマン・ファウラー', '他元首等肩書2': '庶民院 (イギリス)|庶民院議長', '他元首等氏名2': '{{仮リンク|リンゼイ・ホイル|en|Lindsay Hoyle}}', '他元首等肩書3': '連合王国最高裁判所|最高裁判所長官', '他元首等氏名3': ':en:Brenda Hale, Baroness Hale of Richmond|ブレンダ・ヘイル', '面積順位': '76', '面積大きさ': '1 E11', '面積値': '244,820', '水面積率': '1.3%', '人口統計年': '2018', '人口順位': '22', '人口大きさ': '1 E7', '人口値': '6643万5600<ref>{{Cite web|url=https://www.ons.gov.uk/peoplepopulationandcommunity/populationandmigration/populationestimates|title=Population estimates - Office for National Statistics|accessdate=2019-06-26|date=2019-06-26}}</ref>', '人口密度値': '271', 'GDP統計年元': '2012', 'GDP値元': '1兆5478億<ref name=\"imf-statistics-gdp\">[http://www.imf.org/external/pubs/ft/weo/2012/02/weodata/weorept.aspx?pr.x=70&pr.y=13&sy=2010&ey=2012&scsm=1&ssd=1&sort=country&ds=.&br=1&c=112&s=NGDP%2CNGDPD%2CPPPGDP%2CPPPPC&grp=0&a=IMF>Data and Statistics>World Economic Outlook Databases>By Countrise>United Kingdom]</ref>', 'GDP統計年MER': '2012', 'GDP順位MER': '6', 'GDP値MER': '2兆4337億<ref name=\"imf-statistics-gdp\" />', 'GDP統計年': '2012', 'GDP順位': '6', 'GDP値': '2兆3162億<ref name=\"imf-statistics-gdp\" />', 'GDP/人': '36,727<ref name=\"imf-statistics-gdp\" />', '建国形態': '建国', '確立形態1': 'イングランド王国／スコットランド王国<br />（両国とも合同法 (1707年)|1707年合同法まで）', '確立年月日1': '927年／843年', '確立形態2': 'グレートブリテン王国成立<br />（1707年合同法）', '確立年月日2': '1707年{{0}}5月{{0}}1日', '確立形態3': 'グレートブリテン及びアイルランド連合王国成立<br />（合同法 (1800年)|1800年合同法）', '確立年月日3': '1801年{{0}}1月{{0}}1日', '確立形態4': '現在の国号「グレートブリテン及び北アイルランド連合王国」に変更', '確立年月日4': '1927年{{0}}4月12日', '通貨': 'スターリング・ポンド|UKポンド (£)', '通貨コード': 'GBP', '時間帯': '±0', '夏時間': '+1', 'ISO 3166-1': 'GB / GBR', 'ccTLD': '.uk / .gb<ref>使用は.ukに比べ圧倒的少数。</ref>', '国際電話番号': '44', '注記': '<references/>'}\n"
          ]
        }
      ]
    },
    {
      "cell_type": "markdown",
      "source": [
        "## 28. MediaWikiマークアップの除去\n",
        "---\n",
        "27の処理に加えて，テンプレートの値からMediaWikiマークアップを可能な限り除去し，国の基本情報を整形せよ．"
      ],
      "metadata": {
        "id": "6PJaiRui6AD_"
      }
    },
    {
      "cell_type": "code",
      "source": [
        "def strip_markup(text):\n",
        "    text = re.sub(r\"\\'{2,}(.+?)\\'{2,}\", \"\\\\1\", text)\n",
        "    text = re.sub(r\"\\[\\[(.+?)\\]\\]\", \"\\\\1\", text)\n",
        "    text = re.sub(r\"\\[(.+?)\\]\", \"\\\\1\", text)\n",
        "    text = re.sub(r\"\\{\\{(.+?)\\}\\}\", \"\\\\1\", text)\n",
        "    return text\n",
        "\n",
        "result = {k: strip_markup(v) for k, v in template.items()}\n",
        "print(result)"
      ],
      "metadata": {
        "id": "jNl5dYe2G-uF",
        "colab": {
          "base_uri": "https://localhost:8080/"
        },
        "outputId": "805539be-049a-4fc4-e3b8-c69692fac915"
      },
      "execution_count": null,
      "outputs": [
        {
          "output_type": "stream",
          "name": "stdout",
          "text": [
            "{'略名 ': 'イギリス', '日本語国名': 'グレートブリテン及び北アイルランド連合王国', '公式国名': 'lang|en|United Kingdom of Great Britain and Northern Ireland<ref>英語以外での正式国名:<br />', '国旗画像': 'Flag of the United Kingdom.svg', '国章画像': 'ファイル:Royal Coat of Arms of the United Kingdom.svg|85px|イギリスの国章', '国章リンク': '（イギリスの国章|国章）', '標語': 'lang|fr|Dieu et mon droit<br />（フランス語:Dieu et mon droit|神と我が権利）', '国歌': '女王陛下万歳|lang|en|God Save the Queenen icon<br />神よ女王を護り賜え<br />center|ファイル:United States Navy Band - God Save the Queen.ogg', '地図画像': 'Europe-UK.svg', '位置画像': 'United Kingdom (+overseas territories) in the World (+Antarctica claims).svg', '公用語': '英語', '首都': 'ロンドン（事実上）', '最大都市': 'ロンドン', '元首等肩書': 'イギリスの君主|女王', '元首等氏名': 'エリザベス2世', '首相等肩書': 'イギリスの首相|首相', '首相等氏名': 'ボリス・ジョンソン', '他元首等肩書1': '貴族院 (イギリス)|貴族院議長', '他元首等氏名1': ':en:Norman Fowler, Baron Fowler|ノーマン・ファウラー', '他元首等肩書2': '庶民院 (イギリス)|庶民院議長', '他元首等氏名2': '仮リンク|リンゼイ・ホイル|en|Lindsay Hoyle', '他元首等肩書3': '連合王国最高裁判所|最高裁判所長官', '他元首等氏名3': ':en:Brenda Hale, Baroness Hale of Richmond|ブレンダ・ヘイル', '面積順位': '76', '面積大きさ': '1 E11', '面積値': '244,820', '水面積率': '1.3%', '人口統計年': '2018', '人口順位': '22', '人口大きさ': '1 E7', '人口値': '6643万5600<ref>Cite web|url=https://www.ons.gov.uk/peoplepopulationandcommunity/populationandmigration/populationestimates|title=Population estimates - Office for National Statistics|accessdate=2019-06-26|date=2019-06-26</ref>', '人口密度値': '271', 'GDP統計年元': '2012', 'GDP値元': '1兆5478億<ref name=\"imf-statistics-gdp\">http://www.imf.org/external/pubs/ft/weo/2012/02/weodata/weorept.aspx?pr.x=70&pr.y=13&sy=2010&ey=2012&scsm=1&ssd=1&sort=country&ds=.&br=1&c=112&s=NGDP%2CNGDPD%2CPPPGDP%2CPPPPC&grp=0&a=IMF>Data and Statistics>World Economic Outlook Databases>By Countrise>United Kingdom</ref>', 'GDP統計年MER': '2012', 'GDP順位MER': '6', 'GDP値MER': '2兆4337億<ref name=\"imf-statistics-gdp\" />', 'GDP統計年': '2012', 'GDP順位': '6', 'GDP値': '2兆3162億<ref name=\"imf-statistics-gdp\" />', 'GDP/人': '36,727<ref name=\"imf-statistics-gdp\" />', '建国形態': '建国', '確立形態1': 'イングランド王国／スコットランド王国<br />（両国とも合同法 (1707年)|1707年合同法まで）', '確立年月日1': '927年／843年', '確立形態2': 'グレートブリテン王国成立<br />（1707年合同法）', '確立年月日2': '1707年05月01日', '確立形態3': 'グレートブリテン及びアイルランド連合王国成立<br />（合同法 (1800年)|1800年合同法）', '確立年月日3': '1801年01月01日', '確立形態4': '現在の国号「グレートブリテン及び北アイルランド連合王国」に変更', '確立年月日4': '1927年04月12日', '通貨': 'スターリング・ポンド|UKポンド (£)', '通貨コード': 'GBP', '時間帯': '±0', '夏時間': '+1', 'ISO 3166-1': 'GB / GBR', 'ccTLD': '.uk / .gb<ref>使用は.ukに比べ圧倒的少数。</ref>', '国際電話番号': '44', '注記': '<references/>'}\n"
          ]
        }
      ]
    },
    {
      "cell_type": "markdown",
      "source": [
        "## 29. 国旗画像のURLを取得する\n",
        "---\n",
        "テンプレートの内容を利用し，国旗画像のURLを取得せよ．（ヒント: [MediaWiki API](http://www.mediawiki.org/wiki/API:Main_page/ja)の[imageinfo](https://www.mediawiki.org/wiki/API:Imageinfo)を呼び出して，ファイル参照をURLに変換すればよい）"
      ],
      "metadata": {
        "id": "Tclp37O76Gu2"
      }
    },
    {
      "cell_type": "code",
      "source": [
        "import requests as rq\n",
        "\n",
        "url = 'https://www.mediawiki.org/w/api.php?action=query&titles=File:' + template['国旗画像'] + '&prop=imageinfo&iiprop=url&format=json'\n",
        "data = rq.get(url)\n",
        "\n",
        "pattern = f'\"url\":\"(.+?)\"'\n",
        "result = re.search(pattern, data.text)\n",
        "print(result.group(1))"
      ],
      "metadata": {
        "id": "wGezWAsYZad_",
        "colab": {
          "base_uri": "https://localhost:8080/"
        },
        "outputId": "8db6b79e-4bfe-417b-e005-35568d370262"
      },
      "execution_count": null,
      "outputs": [
        {
          "output_type": "stream",
          "name": "stdout",
          "text": [
            "https://upload.wikimedia.org/wikipedia/commons/8/83/Flag_of_the_United_Kingdom_%283-5%29.svg\n"
          ]
        }
      ]
    }
  ]
}